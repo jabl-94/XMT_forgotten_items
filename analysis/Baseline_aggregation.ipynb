{
 "cells": [
  {
   "cell_type": "markdown",
   "metadata": {},
   "source": [
    "### How many 'Forgotten items' baskets are the re in the coop_data.json dataset?\n",
    "\n",
    "#### Definition  of 'Forgotten items basket': a small basket with 'X' number of products (1-2) bought 'Y' number of days after a 'large' purchase of 'Z' amount of products."
   ]
  },
  {
   "cell_type": "code",
   "execution_count": null,
   "metadata": {},
   "outputs": [],
   "source": [
    "import numpy as np\n",
    "import pandas as pd\n",
    "import matplotlib.pyplot as plt \n",
    "import seaborn as sns\n",
    "from datetime import datetime, timedelta\n",
    "\n",
    "import os\n",
    "os.environ[\"OMP_NUM_THREADS\"] = \"4\""
   ]
  },
  {
   "cell_type": "code",
   "execution_count": null,
   "metadata": {},
   "outputs": [],
   "source": [
    "pd.set_option('display.max_columns', None)\n",
    "pd.set_option('display.max_colwidth', None)"
   ]
  },
  {
   "cell_type": "markdown",
   "metadata": {},
   "source": [
    "#### Identifying the baskets that are considered 'forgotten item' purchases"
   ]
  },
  {
   "cell_type": "code",
   "execution_count": null,
   "metadata": {},
   "outputs": [],
   "source": [
    "def identify_forgotten_item_baskets(df, max_days=0, max_items=1, large_basket_threshold=10):\n",
    "    # Sort the dataframe by customer_id and next_basket_id (date)\n",
    "    df = df.sort_values(['customer_id', 'next_basket_id'])\n",
    "    \n",
    "    # Convert next_basket_id to datetime\n",
    "    df['next_basket_date'] = pd.to_datetime(df['next_basket_id'].str.split('_').str[:3].str.join('-'))\n",
    "    \n",
    "    # Initialize the forgotten_item_basket column\n",
    "    df['forgotten_item_basket'] = 0\n",
    "    \n",
    "    # Group by customer_id\n",
    "    for customer_id, group in df.groupby('customer_id'):\n",
    "        large_basket_date = None\n",
    "        \n",
    "        for index, row in group.iterrows():\n",
    "            actual_basket = str(row['actual_basket']).split(',')\n",
    "            \n",
    "            # Check if it's a large basket\n",
    "            if len(actual_basket) >= large_basket_threshold:\n",
    "                large_basket_date = row['next_basket_date']\n",
    "            elif large_basket_date is not None:\n",
    "                # Check if it's a potential forgotten-item basket\n",
    "                date_diff = (row['next_basket_date'] - large_basket_date).days\n",
    "                if 0 <= date_diff <= max_days and len(actual_basket) <= max_items:\n",
    "                    df.at[index, 'forgotten_item_basket'] = 1\n",
    "                    large_basket_date = None  # Reset large_basket_date\n",
    "                elif date_diff > max_days:\n",
    "                    large_basket_date = None  # Reset large_basket_date if more than max_days have passed\n",
    "    \n",
    "    # Drop the temporary next_basket_date column\n",
    "    df = df.drop(columns=['next_basket_date'])\n",
    "    \n",
    "    return df"
   ]
  },
  {
   "cell_type": "code",
   "execution_count": null,
   "metadata": {},
   "outputs": [],
   "source": [
    "# (df, max_days=0, max_items=1, large_basket_threshold=10):"
   ]
  },
  {
   "cell_type": "markdown",
   "metadata": {},
   "source": [
    "#### SPLIT 10 1 for Each"
   ]
  },
  {
   "cell_type": "code",
   "execution_count": null,
   "metadata": {},
   "outputs": [],
   "source": [
    "path = r\"E:\\Thesis\\Legrottaglie Forgotten Items\\Model\\Experiments\\1fE\\tbp\\split_10\\pred_1fE_10_tbp_2.csv\"\n",
    "\n",
    "\n",
    "df = pd.read_csv(path)"
   ]
  },
  {
   "cell_type": "code",
   "execution_count": null,
   "metadata": {},
   "outputs": [],
   "source": []
  },
  {
   "cell_type": "code",
   "execution_count": null,
   "metadata": {},
   "outputs": [],
   "source": []
  }
 ],
 "metadata": {
  "language_info": {
   "name": "python"
  }
 },
 "nbformat": 4,
 "nbformat_minor": 2
}
